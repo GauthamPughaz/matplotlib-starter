{
 "cells": [
  {
   "cell_type": "code",
   "execution_count": null,
   "metadata": {},
   "outputs": [],
   "source": [
    "import matplotlib as mpl\n",
    "import matplotlib.pyplot as plt\n",
    "import pandas as pd\n",
    "import numpy as np"
   ]
  },
  {
   "cell_type": "code",
   "execution_count": null,
   "metadata": {},
   "outputs": [],
   "source": [
    "# Constructing a plot using matplotlib's notebook magic function\n",
    "%matplotlib notebook\n",
    "\n",
    "# Setting the style to reflect the ggplot style\n",
    "mpl.style.use('ggplot')"
   ]
  },
  {
   "cell_type": "code",
   "execution_count": null,
   "metadata": {},
   "outputs": [],
   "source": [
    "# Creating a new plot\n",
    "plt.plot(5, 5, 'o')"
   ]
  },
  {
   "cell_type": "code",
   "execution_count": null,
   "metadata": {},
   "outputs": [],
   "source": [
    "# Adding a new plot would update the existing figure instead of creating one.\n",
    "plt.plot(6, 6, 'o')\n",
    "plt.xlabel('X-axis')\n",
    "plt.ylabel('Y-axis')\n",
    "plt.title('matplotlib example')"
   ]
  },
  {
   "cell_type": "code",
   "execution_count": null,
   "metadata": {},
   "outputs": [],
   "source": [
    "%matplotlib inline\n",
    "# Changing the mode to matplotlib's inline magic function\n",
    "plt.plot(5, 5, 'o')"
   ]
  },
  {
   "cell_type": "code",
   "execution_count": null,
   "metadata": {},
   "outputs": [],
   "source": [
    "# Adding an another plot in inline mode creates another figure\n",
    "plt.plot(6, 6, 'o')\n",
    "plt.xlabel('X-axis')\n",
    "plt.ylabel('Y-axis')\n",
    "plt.title('matplotlib example')"
   ]
  },
  {
   "cell_type": "code",
   "execution_count": null,
   "metadata": {},
   "outputs": [],
   "source": [
    "# Adding an another plot in inline mode creates another figure\n",
    "plt.xlabel('X-axis')\n",
    "plt.ylabel('Y-axis')\n",
    "plt.title('matplotlib example')"
   ]
  },
  {
   "cell_type": "code",
   "execution_count": null,
   "metadata": {},
   "outputs": [],
   "source": [
    "# The below line is useless in inline mode when run alone in a separate cell\n",
    "plt.show()"
   ]
  },
  {
   "cell_type": "markdown",
   "metadata": {},
   "source": [
    "Dataset Source: Immigration to Canada from 1980 to 2013 - [International migration flows to and from selected countries - The 2015 revision](http://www.un.org/en/development/desa/population/migration/data/empirical2/migrationflows.shtml) from United Nation's website."
   ]
  },
  {
   "cell_type": "code",
   "execution_count": null,
   "metadata": {},
   "outputs": [],
   "source": [
    "# Loading Canada's immigration data into a pandas dataframe\n",
    "df_can = pd.read_excel('./Canada.xlsx',\n",
    "                   sheet_name='Canada by Citizenship', skiprows=range(20), skipfooter=2)\n",
    "df_can.head()"
   ]
  },
  {
   "cell_type": "code",
   "execution_count": null,
   "metadata": {},
   "outputs": [],
   "source": [
    "# Chaning the index column to country names\n",
    "df_can.set_index('OdName', inplace=True)"
   ]
  },
  {
   "cell_type": "code",
   "execution_count": null,
   "metadata": {},
   "outputs": [],
   "source": [
    "# Dropping the irrelavent columns and renaming the columns for better readability\n",
    "df_can.drop(['AREA', 'REG', 'DEV', 'Type'], axis=1, inplace=True)\n",
    "df_can.rename(columns={'Coverage': 'Country', 'AreaName': 'Continent', 'RegName': 'Region'}, inplace=True)"
   ]
  },
  {
   "cell_type": "code",
   "execution_count": null,
   "metadata": {},
   "outputs": [],
   "source": [
    "# Creating a new column which contains total number of immigrants across all the years of each country\n",
    "df_can['Total'] = df_can.sum(axis=1)"
   ]
  },
  {
   "cell_type": "code",
   "execution_count": null,
   "metadata": {},
   "outputs": [],
   "source": [
    "df_can.head()"
   ]
  },
  {
   "cell_type": "code",
   "execution_count": null,
   "metadata": {},
   "outputs": [],
   "source": [
    "# Converting the numeric column names to string type to avoid ambiguity with indices\n",
    "df_can.columns = list(map(str, df_can.columns.tolist()))"
   ]
  },
  {
   "cell_type": "code",
   "execution_count": null,
   "metadata": {},
   "outputs": [],
   "source": [
    "# Plotting a line chart for immigrants from Afghanistan to Canada from 1980 to 2013\n",
    "years = list(map(str, range(1980, 2014)))\n",
    "df_afg = df_can.loc['Afghanistan', years].transpose()\n",
    "df_afg.index = df_afg.index.map(int)\n",
    "df_afg.plot()\n",
    "plt.xlabel('Years')\n",
    "plt.ylabel('Count')\n",
    "plt.title('Immigrants from Afghanistan to Canada by year')"
   ]
  },
  {
   "cell_type": "code",
   "execution_count": null,
   "metadata": {},
   "outputs": [],
   "source": [
    "# Plotting an area chart for top five countries in immigrant count to Canada from 1980 to 2013\n",
    "df_top_five = df_can.sort_values(['Total'], ascending=False).head(5)[years].transpose()\n",
    "df_top_five.index = df_afg.index.map(int)\n",
    "df_top_five.plot(kind='area', figsize=(12, 10), alpha=0.5)\n",
    "plt.xlabel('Years')\n",
    "plt.ylabel('Count')\n",
    "plt.title('Top five countries in immigrant count to Canada from 1980 to 2013')\n",
    "plt.show()"
   ]
  },
  {
   "cell_type": "code",
   "execution_count": null,
   "metadata": {},
   "outputs": [],
   "source": [
    "# Histogram of the immigrants of 195 countries in 2013\n",
    "freq, bins = np.histogram(df_can['2013'])\n",
    "df_can['2013'].plot(kind='hist', xticks=bins, figsize=(12, 10))\n",
    "plt.xlabel('Number of immigrants')\n",
    "plt.ylabel('Number of countries')\n",
    "plt.title('Histogram of immigration from 195 countries in 2013')"
   ]
  },
  {
   "cell_type": "code",
   "execution_count": null,
   "metadata": {},
   "outputs": [],
   "source": [
    "# Histogram of the immigrants from Greece, Albania and Bulgaria from 1980 to 2013\n",
    "df_gab = df_can.loc[['Greece', 'Albania', 'Bulgaria'], years].transpose()\n",
    "count, bin_edges = np.histogram(df_gab, 15)\n",
    "df_gab.plot(kind='hist',\n",
    "            figsize=(15, 12),\n",
    "            bins=15,\n",
    "            xticks=bin_edges,\n",
    "            alpha=0.35,\n",
    "            xlim=(bin_edges[0], bin_edges[-1]) # For limiting x axis co-ordinates\n",
    "           )\n",
    "plt.title('Histogram of the immigrants from Greece, Albania and Bulgaria from 1980 to 2013')\n",
    "plt.xlabel('Number of immigrants')\n",
    "plt.ylabel('Frequency across years')\n",
    "plt.show()"
   ]
  },
  {
   "cell_type": "code",
   "execution_count": null,
   "metadata": {},
   "outputs": [],
   "source": [
    "# Bar chart for Icelandic immigrants to Canada from 1980 to 2013\n",
    "df_iceland = df_can.loc['Iceland', years].transpose()\n",
    "df_iceland.index = df_iceland.index.map(int)\n",
    "df_iceland.plot(kind='bar', figsize=(12, 10), color='red')\n",
    "plt.xlabel('Years')\n",
    "plt.ylabel('Immigrants')\n",
    "plt.title('Bar chart for Icelandic immigrants to Canada from 1980 to 2013')"
   ]
  },
  {
   "cell_type": "markdown",
   "metadata": {},
   "source": [
    "Horizontal bar plot for the total number of immigrants to Canada from the top 15 countries in 1980-2013"
   ]
  },
  {
   "cell_type": "code",
   "execution_count": null,
   "metadata": {},
   "outputs": [],
   "source": [
    "# Step 1: Get the data pertaining to the top 15 countries.\n",
    "df_top_15 = df_can.sort_values(['Total'])\n",
    "df_top_15 = df_top_15.tail(15)[years]"
   ]
  },
  {
   "cell_type": "code",
   "execution_count": null,
   "metadata": {},
   "outputs": [],
   "source": [
    "# Step 2: Plot data\n",
    "df_top_15.plot(kind='barh',\n",
    "               figsize=(15, 15))\n",
    "for i, row in enumerate(df_top_15.values):\n",
    "    label = format(np.sum(row), ',')\n",
    "    plt.annotate(label,\n",
    "                 xy=(max(row) + 10, i - 0.1)\n",
    "                 )\n",
    "plt.xlabel('Number of immigrants')\n",
    "plt.ylabel('Years')\n",
    "plt.title('Horizontal bar plot for the total number of immigrants to Canada from the top 15 countries')\n",
    "plt.show()"
   ]
  },
  {
   "cell_type": "code",
   "execution_count": null,
   "metadata": {},
   "outputs": [],
   "source": [
    "# Pie chart for the immigrants to Canada from 1980 to 2013 grouped by continents\n",
    "df_continents = df_can.groupby('Continent', axis=0).sum()\n",
    "df_continents['Total'].plot(kind='pie', figsize=(12, 12))\n",
    "plt.title('Pie chart for the immigrants to Canada from 1980 to 2013 grouped by continents')\n",
    "plt.show()"
   ]
  },
  {
   "cell_type": "markdown",
   "metadata": {},
   "source": [
    "Pie chart to show the proportion of new immigrants grouped by continents in the year 2013.\n"
   ]
  },
  {
   "cell_type": "code",
   "execution_count": null,
   "metadata": {},
   "outputs": [],
   "source": [
    "df_2013 = df_can.groupby('Continent').sum()[['2013']]\n",
    "explode_list = [0, 0, 0, 0.1, 0, 0.1]\n",
    "df_2013['2013'].plot(kind='pie',\n",
    "                     autopct='%.1f%%',\n",
    "                     pctdistance=1.12,\n",
    "                     figsize=(15, 6),\n",
    "                     shadow=True,\n",
    "                     explode=explode_list,\n",
    "                     labels=None,\n",
    "                     startangle=90\n",
    "                    )\n",
    "\n",
    "plt.title('Immigration to Canada by Continent [1980 - 2013]', y=1.12)\n",
    "plt.axis('equal')\n",
    "plt.legend(labels=df_2013.index, loc='upper left')"
   ]
  },
  {
   "cell_type": "code",
   "execution_count": null,
   "metadata": {},
   "outputs": [],
   "source": [
    "# Box plot for immigrants from Japan in 1980 to 2013\n",
    "df_japan = df_can.loc['Japan', years].transpose()\n",
    "df_japan.plot(kind='box', figsize=(12, 12))\n",
    "plt.ylabel('Number of immigrants')\n",
    "plt.title('Box plot for immigrants from Japan in 1980 to 2013')\n",
    "plt.show()"
   ]
  },
  {
   "cell_type": "markdown",
   "metadata": {},
   "source": [
    "Box plots of the distribution of the number of new immigrants from India and China for the period 1980 - 2013."
   ]
  },
  {
   "cell_type": "code",
   "execution_count": null,
   "metadata": {},
   "outputs": [],
   "source": [
    "# Step 1: Get the dataset for China and India.\n",
    "df_IC = df_can.loc[['India', 'China'], years].transpose()\n",
    "\n",
    "# Step 2: Plot data.\n",
    "df_IC.plot(kind='box', figsize=(12, 12))\n",
    "plt.title('Box plot of Indian and Chinese Immigrants from 1980 - 2013')\n",
    "plt.ylabel('Number of immigrants')\n",
    "plt.show()"
   ]
  },
  {
   "cell_type": "code",
   "execution_count": null,
   "metadata": {
    "scrolled": true
   },
   "outputs": [],
   "source": [
    "# Scatter plot for immigrants from all countries to Canada in 1980 to 2013\n",
    "\n",
    "df_total = pd.DataFrame({'Total': df_can[years].sum(), 'Year': list(map(int, years))})\n",
    "df_total.plot(kind='scatter', x='Year', y='Total', figsize=(14, 10))\n",
    "plt.title('Scatter plot for immigrants from all countries to Canada in 1980 to 2013')\n",
    "plt.show()"
   ]
  },
  {
   "cell_type": "markdown",
   "metadata": {},
   "source": [
    "Bubble plots of immigration from China and India to visualize any differences with time from 1980 to 2013."
   ]
  },
  {
   "cell_type": "code",
   "execution_count": null,
   "metadata": {},
   "outputs": [],
   "source": [
    "# Step 1: Normalize the data pertaining to China and India.\n",
    "df_can_t = df_can[years].transpose()\n",
    "df_can_t.index = df_can_t.index.map(int)\n",
    "df_can_t.index.name = 'Year'\n",
    "df_can_t.reset_index(inplace=True)\n",
    "norm_india = (df_can_t['India'] - df_can_t['India'].min()) / (df_can_t['India'].max() - df_can_t['India'].min())\n",
    "norm_china = (df_can_t['China'] - df_can_t['China'].min()) / (df_can_t['China'].max() - df_can_t['China'].min())\n",
    "\n",
    "# Step 2: Generate the bubble plots.\n",
    "ax0 = df_can_t.plot(kind='scatter',\n",
    "                   figsize=(14, 12),\n",
    "                   s=norm_india * 2000 + 10,\n",
    "                   alpha='0.5',\n",
    "                   color='green',\n",
    "                   x='Year', \n",
    "                   y='India'\n",
    "                  )\n",
    "\n",
    "ax1 = df_can_t.plot(kind='scatter',\n",
    "                   figsize=(14, 12),\n",
    "                   s=norm_india * 2000 + 10,\n",
    "                   alpha='0.5',\n",
    "                   color='red',\n",
    "                   x='Year', \n",
    "                   y='China',\n",
    "                   ax=ax0\n",
    "                  )\n",
    "\n",
    "plt.title('Immigration from India and China to Canada in 1980-2013')\n",
    "plt.ylabel('Number of immigrants')\n",
    "plt.xlabel('Year')\n",
    "ax0.legend(['India', 'China'], loc='upper left', fontsize='x-large')"
   ]
  },
  {
   "cell_type": "code",
   "execution_count": null,
   "metadata": {},
   "outputs": [],
   "source": []
  }
 ],
 "metadata": {
  "kernelspec": {
   "display_name": "Python 3",
   "language": "python",
   "name": "python3"
  },
  "language_info": {
   "codemirror_mode": {
    "name": "ipython",
    "version": 3
   },
   "file_extension": ".py",
   "mimetype": "text/x-python",
   "name": "python",
   "nbconvert_exporter": "python",
   "pygments_lexer": "ipython3",
   "version": "3.7.0"
  }
 },
 "nbformat": 4,
 "nbformat_minor": 2
}
